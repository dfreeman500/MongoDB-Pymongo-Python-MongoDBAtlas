{
 "cells": [
  {
   "cell_type": "markdown",
   "metadata": {},
   "source": [
    "# Full Text Search with Atlas Search\n",
    "https://www.youtube.com/watch?v=nc-Kpiq1zLc&list=PLzMcBGfZo4-nX-NCYorkatzBxjqRlPkKB&index=3"
   ]
  },
  {
   "cell_type": "markdown",
   "metadata": {},
   "source": [
    "Create database\n",
    "\n",
    "Create Collection of documents\n",
    "\n",
    "1. Go back to cluster and create search index\n",
    "\n",
    "    * has less data than the entire collection of data to speed up searching\n",
    "    * lucene.english (if know only have english text) - full text search engine will ignore insignificant words\n",
    "    * \n",
    "2. from code with connection strings set up. \n",
    "    * Using \"fuzzy\" matching allows for 'computerr' to find 'computer'\n",
    "    * can pass in parameters to describe how fuzzy the math could be\n",
    "    * removing \"fuzzy\":{} returns an exact match\n",
    "\n"
   ]
  },
  {
   "cell_type": "code",
   "execution_count": null,
   "metadata": {},
   "outputs": [],
   "source": [
    "def fuzzy_matching():\n",
    "    result = question.aggregate([\n",
    "        {\n",
    "            \"$search\": {\n",
    "                \"index\": \"language_search\",\n",
    "                \"text\": {\n",
    "                    \"query\": \"computer\",\n",
    "                    \"path\": \"category\",\n",
    "                    \"fuzzy\": {}\n",
    "                }\n",
    "            }\n",
    "        }\n",
    "    ])\n",
    "\n",
    "    printer.pprint(list(result))\n",
    "\n",
    "fuzzy_matching()"
   ]
  },
  {
   "cell_type": "markdown",
   "metadata": {},
   "source": [
    "3. Look for synonyms\n",
    "    * in mongodb atlas collections tab\n",
    "    * create collectio tab and create a document with synonyms\n",
    "    * {\"mappingType\": \"equivalent\", \"synonyms\":[\"computer\", \"laptop\",\"tech\"]}\n",
    "    * can also use mapping type of \"eqivalent\" or \"explicit\" (ex: a one way relationship - beer maps to pint and brew, but pint does not map to beer or brew)\n",
    "    * add synonyms collection to index\n",
    "    * edit index definition"
   ]
  },
  {
   "cell_type": "markdown",
   "metadata": {},
   "source": [
    "4. Autocomplete\n",
    "    * "
   ]
  },
  {
   "cell_type": "markdown",
   "metadata": {},
   "source": [
    "5. Compound Queries\n",
    "\n",
    "    * \"must\"{\n",
    "        \"query\": [\"computer\", \"coding\"]\n",
    "        \"path\":\n",
    "    }\n",
    "    * \"mustNot\"{\n",
    "        \"query\": \"codes\"\n",
    "        \"path\":\n",
    "    }\n",
    "    * \"should{\n",
    "        \"query\": \"application\"\n",
    "        \"path\":\n",
    "    }"
   ]
  },
  {
   "cell_type": "markdown",
   "metadata": {},
   "source": [
    "6. Relevance Search\n",
    "    * More fine tuned prioritze items in the later rounds of pipeline by boosting the rank. Ex: a search that includes the following would put 'Final Jeopardy' higher up in search results\n",
    "\n",
    "    * \"should\":[\n",
    "        {\n",
    "            \"text\": {\n",
    "                \"query\": \"Final Jeopardy\",\n",
    "                \"path\": \"round\",\n",
    "                \"score\": {boost\": {\"value\": 3.0}}\n",
    "            }\n",
    "        }\n",
    "\n",
    "    ]"
   ]
  }
 ],
 "metadata": {
  "kernelspec": {
   "display_name": "Python 3.10.4 ('env': venv)",
   "language": "python",
   "name": "python3"
  },
  "language_info": {
   "name": "python",
   "version": "3.10.4"
  },
  "orig_nbformat": 4,
  "vscode": {
   "interpreter": {
    "hash": "c087d68c6b10b090dfc749823e9d99c31c3f57772309f5378271b57c94b7bbaf"
   }
  }
 },
 "nbformat": 4,
 "nbformat_minor": 2
}
